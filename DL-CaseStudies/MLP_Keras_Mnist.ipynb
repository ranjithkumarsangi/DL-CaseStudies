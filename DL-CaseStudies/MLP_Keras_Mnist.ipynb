{
 "cells": [
  {
   "cell_type": "markdown",
   "metadata": {
    "colab_type": "text",
    "id": "UTJmsXnXQKbG"
   },
   "source": [
    "## Keras -- MLPs on MNIST"
   ]
  },
  {
   "cell_type": "code",
   "execution_count": 0,
   "metadata": {
    "colab": {},
    "colab_type": "code",
    "id": "2UILABPAQKbH"
   },
   "outputs": [],
   "source": [
    "from keras.utils import np_utils \n",
    "from keras.datasets import mnist \n",
    "import seaborn as sns\n",
    "from keras.initializers import RandomNormal\n",
    "from keras.models import Sequential \n",
    "from keras.layers import Dense, Activation \n",
    "from keras.layers import Dropout\n",
    "from keras.layers.normalization import BatchNormalization"
   ]
  },
  {
   "cell_type": "code",
   "execution_count": 0,
   "metadata": {
    "colab": {},
    "colab_type": "code",
    "id": "lOO-TM_7QKbM"
   },
   "outputs": [],
   "source": [
    "%matplotlib notebook\n",
    "%matplotlib inline\n",
    "import matplotlib.pyplot as plt\n",
    "import numpy as np\n",
    "import time\n",
    "# https://gist.github.com/greydanus/f6eee59eaf1d90fcb3b534a25362cea4\n",
    "# https://stackoverflow.com/a/14434334\n",
    "# this function is used to update the plots for each epoch and error\n",
    "def plt_dynamic(x, vy, ty, ax, colors=['b']):\n",
    "    ax.plot(x, vy, 'b', label=\"Validation Loss\")\n",
    "    ax.plot(x, ty, 'r', label=\"Train Loss\")\n",
    "    plt.legend()\n",
    "    plt.grid()\n",
    "    fig.canvas.draw()"
   ]
  },
  {
   "cell_type": "code",
   "execution_count": 0,
   "metadata": {
    "colab": {},
    "colab_type": "code",
    "id": "TKmYKnibQKbQ"
   },
   "outputs": [],
   "source": [
    "# the data, shuffled and split between train and test sets \n",
    "(X_train, y_train), (X_test, y_test) = mnist.load_data()\n",
    "# if you observe the input shape its 3 dimensional vector\n",
    "# for each image we have a (28*28) vector\n",
    "# we will convert the (28*28) vector into single dimensional vector of 1 * 784 \n",
    "\n",
    "X_train = X_train.reshape(X_train.shape[0], X_train.shape[1]*X_train.shape[2]) \n",
    "X_test = X_test.reshape(X_test.shape[0], X_test.shape[1]*X_test.shape[2]) \n",
    "\n",
    "# if we observe the above matrix each cell is having a value between 0-255\n",
    "# before we move to apply machine learning algorithms lets try to normalize the data\n",
    "# X => (X - Xmin)/(Xmax-Xmin) = X/255\n",
    "\n",
    "X_train = X_train/255\n",
    "X_test = X_test/255"
   ]
  },
  {
   "cell_type": "code",
   "execution_count": 104,
   "metadata": {
    "colab": {
     "base_uri": "https://localhost:8080/",
     "height": 51
    },
    "colab_type": "code",
    "id": "3Ruu-vXzQKbi",
    "outputId": "2307b1d6-3740-4454-cde5-d8177e5f5006"
   },
   "outputs": [
    {
     "name": "stdout",
     "output_type": "stream",
     "text": [
      "Class label of first image : 5\n",
      "After converting the output into a vector :  [0. 0. 0. 0. 0. 1. 0. 0. 0. 0.]\n"
     ]
    }
   ],
   "source": [
    "# here we are having a class number for each image\n",
    "print(\"Class label of first image :\", y_train[0])\n",
    "\n",
    "# lets convert this into a 10 dimensional vector\n",
    "# ex: consider an image is 5 convert it into 5 => [0, 0, 0, 0, 0, 1, 0, 0, 0, 0]\n",
    "# this conversion needed for MLPs \n",
    "\n",
    "Y_train = np_utils.to_categorical(y_train, 10) \n",
    "Y_test = np_utils.to_categorical(y_test, 10)\n",
    "\n",
    "print(\"After converting the output into a vector : \",Y_train[0])"
   ]
  },
  {
   "cell_type": "code",
   "execution_count": 0,
   "metadata": {
    "colab": {},
    "colab_type": "code",
    "id": "I0s7jzhVQKbn"
   },
   "outputs": [],
   "source": [
    "output_dim = 10\n",
    "input_dim = X_train.shape[1]\n",
    "\n",
    "batch_size = 128 \n",
    "nb_epoch = 20"
   ]
  },
  {
   "cell_type": "markdown",
   "metadata": {
    "colab_type": "text",
    "id": "DnshxS54HxUC"
   },
   "source": [
    "<h2> 5. MLP + Relu+ AdamOptimizer </h2>"
   ]
  },
  {
   "cell_type": "code",
   "execution_count": 106,
   "metadata": {
    "colab": {
     "base_uri": "https://localhost:8080/",
     "height": 238
    },
    "colab_type": "code",
    "id": "rUYx3132Hsel",
    "outputId": "e7edea8c-13cb-4d4b-94c7-438c7d04bcc7"
   },
   "outputs": [
    {
     "name": "stdout",
     "output_type": "stream",
     "text": [
      "_________________________________________________________________\n",
      "Layer (type)                 Output Shape              Param #   \n",
      "=================================================================\n",
      "dense_44 (Dense)             (None, 364)               285740    \n",
      "_________________________________________________________________\n",
      "dense_45 (Dense)             (None, 52)                18980     \n",
      "_________________________________________________________________\n",
      "dense_46 (Dense)             (None, 10)                530       \n",
      "=================================================================\n",
      "Total params: 305,250\n",
      "Trainable params: 305,250\n",
      "Non-trainable params: 0\n",
      "_________________________________________________________________\n"
     ]
    }
   ],
   "source": [
    "model_relu = Sequential()\n",
    "\n",
    "model_relu.add(Dense(364, activation='relu', input_shape=(input_dim,), kernel_initializer=RandomNormal(mean=0.0, stddev=0.041, seed=None)))\n",
    "model_relu.add(Dense(52, activation='relu', kernel_initializer=RandomNormal(mean=0.0, stddev=0.079, seed=None)) )\n",
    "model_relu.add(Dense(output_dim, activation='softmax'))\n",
    "model_relu.summary()"
   ]
  },
  {
   "cell_type": "code",
   "execution_count": 107,
   "metadata": {
    "colab": {
     "base_uri": "https://localhost:8080/",
     "height": 714
    },
    "colab_type": "code",
    "id": "HUJ6OhFDIBcn",
    "outputId": "2ab0bd3f-1ab5-4cd3-a830-aeb8e174acc9"
   },
   "outputs": [
    {
     "name": "stdout",
     "output_type": "stream",
     "text": [
      "Train on 60000 samples, validate on 10000 samples\n",
      "Epoch 1/20\n",
      "60000/60000 [==============================] - 5s 84us/step - loss: 0.2704 - acc: 0.9235 - val_loss: 0.1234 - val_acc: 0.9632\n",
      "Epoch 2/20\n",
      "60000/60000 [==============================] - 3s 57us/step - loss: 0.1026 - acc: 0.9691 - val_loss: 0.0898 - val_acc: 0.9732\n",
      "Epoch 3/20\n",
      "60000/60000 [==============================] - 4s 63us/step - loss: 0.0664 - acc: 0.9799 - val_loss: 0.0737 - val_acc: 0.9752\n",
      "Epoch 4/20\n",
      "60000/60000 [==============================] - 4s 60us/step - loss: 0.0467 - acc: 0.9855 - val_loss: 0.0952 - val_acc: 0.9682\n",
      "Epoch 5/20\n",
      "60000/60000 [==============================] - 4s 62us/step - loss: 0.0348 - acc: 0.9892 - val_loss: 0.0726 - val_acc: 0.9781\n",
      "Epoch 6/20\n",
      "60000/60000 [==============================] - 4s 60us/step - loss: 0.0264 - acc: 0.9918 - val_loss: 0.0642 - val_acc: 0.9803\n",
      "Epoch 7/20\n",
      "60000/60000 [==============================] - 4s 66us/step - loss: 0.0217 - acc: 0.9932 - val_loss: 0.0770 - val_acc: 0.9765\n",
      "Epoch 8/20\n",
      "60000/60000 [==============================] - 4s 67us/step - loss: 0.0173 - acc: 0.9945 - val_loss: 0.0795 - val_acc: 0.9778\n",
      "Epoch 9/20\n",
      "60000/60000 [==============================] - 4s 61us/step - loss: 0.0138 - acc: 0.9957 - val_loss: 0.0833 - val_acc: 0.9767\n",
      "Epoch 10/20\n",
      "60000/60000 [==============================] - 4s 59us/step - loss: 0.0122 - acc: 0.9963 - val_loss: 0.0728 - val_acc: 0.9791\n",
      "Epoch 11/20\n",
      "60000/60000 [==============================] - 3s 58us/step - loss: 0.0098 - acc: 0.9970 - val_loss: 0.0785 - val_acc: 0.9796\n",
      "Epoch 12/20\n",
      "60000/60000 [==============================] - 3s 58us/step - loss: 0.0111 - acc: 0.9963 - val_loss: 0.0793 - val_acc: 0.9797\n",
      "Epoch 13/20\n",
      "60000/60000 [==============================] - 3s 57us/step - loss: 0.0095 - acc: 0.9969 - val_loss: 0.0812 - val_acc: 0.9789\n",
      "Epoch 14/20\n",
      "60000/60000 [==============================] - 3s 57us/step - loss: 0.0100 - acc: 0.9968 - val_loss: 0.0747 - val_acc: 0.9830\n",
      "Epoch 15/20\n",
      "60000/60000 [==============================] - 3s 58us/step - loss: 0.0056 - acc: 0.9983 - val_loss: 0.0812 - val_acc: 0.9807\n",
      "Epoch 16/20\n",
      "60000/60000 [==============================] - 4s 59us/step - loss: 0.0061 - acc: 0.9981 - val_loss: 0.1016 - val_acc: 0.9775\n",
      "Epoch 17/20\n",
      "60000/60000 [==============================] - 3s 58us/step - loss: 0.0105 - acc: 0.9962 - val_loss: 0.0943 - val_acc: 0.9794\n",
      "Epoch 18/20\n",
      "60000/60000 [==============================] - 4s 61us/step - loss: 0.0079 - acc: 0.9973 - val_loss: 0.0850 - val_acc: 0.9812\n",
      "Epoch 19/20\n",
      "60000/60000 [==============================] - 4s 60us/step - loss: 0.0062 - acc: 0.9980 - val_loss: 0.0907 - val_acc: 0.9814\n",
      "Epoch 20/20\n",
      "60000/60000 [==============================] - 4s 60us/step - loss: 0.0034 - acc: 0.9988 - val_loss: 0.0938 - val_acc: 0.9816\n"
     ]
    }
   ],
   "source": [
    "model_relu.compile(optimizer='adam', loss='categorical_crossentropy', metrics=['accuracy'])\n",
    "history = model_relu.fit(X_train, Y_train, batch_size=batch_size, epochs=nb_epoch, verbose=1, validation_data=(X_test, Y_test))"
   ]
  },
  {
   "cell_type": "code",
   "execution_count": 108,
   "metadata": {
    "colab": {
     "base_uri": "https://localhost:8080/",
     "height": 313
    },
    "colab_type": "code",
    "id": "knIQqwdmITwj",
    "outputId": "e3c2d020-7166-409f-e9bd-58a336c0b3db"
   },
   "outputs": [
    {
     "name": "stdout",
     "output_type": "stream",
     "text": [
      "Test score: 0.0938286443330142\n",
      "Test accuracy: 0.9816\n"
     ]
    },
    {
     "data": {
      "image/png": "[encoded data removed]",
      "text/plain": [
       "<matplotlib.figure.Figure at 0x7fd3be341b38>"
      ]
     },
     "metadata": {
      "tags": []
     },
     "output_type": "display_data"
    }
   ],
   "source": [
    "score = model_relu.evaluate(X_test, Y_test, verbose=0) \n",
    "print('Test score:', score[0]) \n",
    "print('Test accuracy:', score[1])\n",
    "fig,ax = plt.subplots(1,1)\n",
    "ax.set_xlabel('epoch') ; ax.set_ylabel('Categorical Crossentropy Loss')\n",
    "x = list(range(1,nb_epoch+1))\n",
    "vy = history.history['val_loss']\n",
    "ty = history.history['loss']\n",
    "plt_dynamic(x, vy, ty, ax)"
   ]
  },
  {
   "cell_type": "markdown",
   "metadata": {
    "colab_type": "text",
    "id": "1vDo7PxWI0vX"
   },
   "source": [
    "<h2> 5. MLP + Relu+BatchNormalization+ AdamOptimizer </h2>"
   ]
  },
  {
   "cell_type": "code",
   "execution_count": 109,
   "metadata": {
    "colab": {
     "base_uri": "https://localhost:8080/",
     "height": 306
    },
    "colab_type": "code",
    "id": "KviYmgL7I4zq",
    "outputId": "2810794a-c303-4506-a8a5-8f9ab784a79c"
   },
   "outputs": [
    {
     "name": "stdout",
     "output_type": "stream",
     "text": [
      "_________________________________________________________________\n",
      "Layer (type)                 Output Shape              Param #   \n",
      "=================================================================\n",
      "dense_47 (Dense)             (None, 364)               285740    \n",
      "_________________________________________________________________\n",
      "batch_normalization_19 (Batc (None, 364)               1456      \n",
      "_________________________________________________________________\n",
      "dense_48 (Dense)             (None, 52)                18980     \n",
      "_________________________________________________________________\n",
      "batch_normalization_20 (Batc (None, 52)                208       \n",
      "_________________________________________________________________\n",
      "dense_49 (Dense)             (None, 10)                530       \n",
      "=================================================================\n",
      "Total params: 306,914\n",
      "Trainable params: 306,082\n",
      "Non-trainable params: 832\n",
      "_________________________________________________________________\n"
     ]
    }
   ],
   "source": [
    "model_relu_batchnormal = Sequential()\n",
    "\n",
    "model_relu_batchnormal.add(Dense(364, activation='relu', input_shape=(input_dim,), kernel_initializer=RandomNormal(mean=0.0, stddev=0.041, seed=None)))\n",
    "model_relu_batchnormal.add(BatchNormalization())\n",
    "\n",
    "model_relu_batchnormal.add(Dense(52, activation='relu', kernel_initializer=RandomNormal(mean=0.0, stddev=0.079, seed=None)) )\n",
    "model_relu_batchnormal.add(BatchNormalization())\n",
    "\n",
    "model_relu_batchnormal.add(Dense(output_dim, activation='softmax'))\n",
    "model_relu_batchnormal.summary()"
   ]
  },
  {
   "cell_type": "code",
   "execution_count": 110,
   "metadata": {
    "colab": {
     "base_uri": "https://localhost:8080/",
     "height": 714
    },
    "colab_type": "code",
    "id": "kPlgmDisJRRQ",
    "outputId": "6c231e7f-202c-4168-b15b-04369e1fd781"
   },
   "outputs": [
    {
     "name": "stdout",
     "output_type": "stream",
     "text": [
      "Train on 60000 samples, validate on 10000 samples\n",
      "Epoch 1/20\n",
      "60000/60000 [==============================] - 8s 140us/step - loss: 0.2221 - acc: 0.9368 - val_loss: 0.1156 - val_acc: 0.9650\n",
      "Epoch 2/20\n",
      "60000/60000 [==============================] - 6s 106us/step - loss: 0.0833 - acc: 0.9752 - val_loss: 0.0960 - val_acc: 0.9709\n",
      "Epoch 3/20\n",
      "60000/60000 [==============================] - 6s 106us/step - loss: 0.0523 - acc: 0.9843 - val_loss: 0.0743 - val_acc: 0.9777\n",
      "Epoch 4/20\n",
      "60000/60000 [==============================] - 6s 106us/step - loss: 0.0402 - acc: 0.9874 - val_loss: 0.0704 - val_acc: 0.9799\n",
      "Epoch 5/20\n",
      "60000/60000 [==============================] - 6s 106us/step - loss: 0.0289 - acc: 0.9913 - val_loss: 0.0784 - val_acc: 0.9766\n",
      "Epoch 6/20\n",
      "60000/60000 [==============================] - 6s 102us/step - loss: 0.0244 - acc: 0.9924 - val_loss: 0.0678 - val_acc: 0.9798\n",
      "Epoch 7/20\n",
      "60000/60000 [==============================] - 6s 103us/step - loss: 0.0200 - acc: 0.9938 - val_loss: 0.0854 - val_acc: 0.9734\n",
      "Epoch 8/20\n",
      "60000/60000 [==============================] - 6s 103us/step - loss: 0.0188 - acc: 0.9942 - val_loss: 0.0753 - val_acc: 0.9768\n",
      "Epoch 9/20\n",
      "60000/60000 [==============================] - 6s 102us/step - loss: 0.0176 - acc: 0.9940 - val_loss: 0.0807 - val_acc: 0.9769\n",
      "Epoch 10/20\n",
      "60000/60000 [==============================] - 6s 104us/step - loss: 0.0150 - acc: 0.9950 - val_loss: 0.0700 - val_acc: 0.9810\n",
      "Epoch 11/20\n",
      "60000/60000 [==============================] - 6s 105us/step - loss: 0.0142 - acc: 0.9954 - val_loss: 0.0779 - val_acc: 0.9772\n",
      "Epoch 12/20\n",
      "60000/60000 [==============================] - 6s 104us/step - loss: 0.0122 - acc: 0.9959 - val_loss: 0.0740 - val_acc: 0.9797\n",
      "Epoch 13/20\n",
      "60000/60000 [==============================] - 6s 105us/step - loss: 0.0099 - acc: 0.9967 - val_loss: 0.0712 - val_acc: 0.9801\n",
      "Epoch 14/20\n",
      "60000/60000 [==============================] - 6s 105us/step - loss: 0.0088 - acc: 0.9971 - val_loss: 0.0766 - val_acc: 0.9818\n",
      "Epoch 15/20\n",
      "60000/60000 [==============================] - 6s 103us/step - loss: 0.0099 - acc: 0.9966 - val_loss: 0.0723 - val_acc: 0.9820\n",
      "Epoch 16/20\n",
      "60000/60000 [==============================] - 6s 105us/step - loss: 0.0111 - acc: 0.9965 - val_loss: 0.0809 - val_acc: 0.9790\n",
      "Epoch 17/20\n",
      "60000/60000 [==============================] - 6s 104us/step - loss: 0.0085 - acc: 0.9972 - val_loss: 0.0751 - val_acc: 0.9796\n",
      "Epoch 18/20\n",
      "60000/60000 [==============================] - 6s 104us/step - loss: 0.0078 - acc: 0.9974 - val_loss: 0.0720 - val_acc: 0.9824\n",
      "Epoch 19/20\n",
      "60000/60000 [==============================] - 6s 107us/step - loss: 0.0071 - acc: 0.9978 - val_loss: 0.0767 - val_acc: 0.9821\n",
      "Epoch 20/20\n",
      "60000/60000 [==============================] - 6s 103us/step - loss: 0.0077 - acc: 0.9972 - val_loss: 0.0763 - val_acc: 0.9806\n"
     ]
    }
   ],
   "source": [
    "model_relu_batchnormal.compile(optimizer='adam', loss='categorical_crossentropy', metrics=['accuracy'])\n",
    "history = model_relu_batchnormal.fit(X_train, Y_train, batch_size=batch_size, epochs=nb_epoch, verbose=1, validation_data=(X_test, Y_test))"
   ]
  },
  {
   "cell_type": "code",
   "execution_count": 111,
   "metadata": {
    "colab": {
     "base_uri": "https://localhost:8080/",
     "height": 313
    },
    "colab_type": "code",
    "id": "_vpZA8rbKd_P",
    "outputId": "a8a4e94c-5f33-4a89-8682-5365493f76d0"
   },
   "outputs": [
    {
     "name": "stdout",
     "output_type": "stream",
     "text": [
      "Test score: 0.07634242584260718\n",
      "Test accuracy: 0.9806\n"
     ]
    },
    {
     "data": {
      "image/png": "[encoded data removed]",
      "text/plain": [
       "<matplotlib.figure.Figure at 0x7fd3bfb35748>"
      ]
     },
     "metadata": {
      "tags": []
     },
     "output_type": "display_data"
    }
   ],
   "source": [
    "score = model_relu_batchnormal.evaluate(X_test, Y_test, verbose=0) \n",
    "print('Test score:', score[0]) \n",
    "print('Test accuracy:', score[1])\n",
    "fig,ax = plt.subplots(1,1)\n",
    "ax.set_xlabel('epoch') ; ax.set_ylabel('Categorical Crossentropy Loss')\n",
    "x = list(range(1,nb_epoch+1))\n",
    "vy = history.history['val_loss']\n",
    "ty = history.history['loss']\n",
    "plt_dynamic(x, vy, ty, ax)"
   ]
  },
  {
   "cell_type": "markdown",
   "metadata": {
    "colab_type": "text",
    "id": "IWYP8-3pQKct"
   },
   "source": [
    "<h2> 5. MLP + Relu+BatchNormalization+Dropout + AdamOptimizer </h2>"
   ]
  },
  {
   "cell_type": "code",
   "execution_count": 112,
   "metadata": {
    "colab": {
     "base_uri": "https://localhost:8080/",
     "height": 374
    },
    "colab_type": "code",
    "id": "DJj0hu0-QKct",
    "outputId": "90c47a0d-f99f-4e5a-83c4-040a00146c1b"
   },
   "outputs": [
    {
     "name": "stdout",
     "output_type": "stream",
     "text": [
      "_________________________________________________________________\n",
      "Layer (type)                 Output Shape              Param #   \n",
      "=================================================================\n",
      "dense_50 (Dense)             (None, 364)               285740    \n",
      "_________________________________________________________________\n",
      "batch_normalization_21 (Batc (None, 364)               1456      \n",
      "_________________________________________________________________\n",
      "dropout_17 (Dropout)         (None, 364)               0         \n",
      "_________________________________________________________________\n",
      "dense_51 (Dense)             (None, 52)                18980     \n",
      "_________________________________________________________________\n",
      "batch_normalization_22 (Batc (None, 52)                208       \n",
      "_________________________________________________________________\n",
      "dropout_18 (Dropout)         (None, 52)                0         \n",
      "_________________________________________________________________\n",
      "dense_52 (Dense)             (None, 10)                530       \n",
      "=================================================================\n",
      "Total params: 306,914\n",
      "Trainable params: 306,082\n",
      "Non-trainable params: 832\n",
      "_________________________________________________________________\n"
     ]
    }
   ],
   "source": [
    "model_drop = Sequential()\n",
    "\n",
    "model_drop.add(Dense(364, activation='relu', input_shape=(input_dim,), kernel_initializer=RandomNormal(mean=0.0, stddev=0.041, seed=None)))\n",
    "model_drop.add(BatchNormalization())\n",
    "model_drop.add(Dropout(0.5))\n",
    "\n",
    "model_drop.add(Dense(52, activation='relu', kernel_initializer=RandomNormal(mean=0.0, stddev=0.079, seed=None)) )\n",
    "model_drop.add(BatchNormalization())\n",
    "model_drop.add(Dropout(0.5))\n",
    "\n",
    "model_drop.add(Dense(output_dim, activation='softmax'))\n",
    "model_drop.summary()"
   ]
  },
  {
   "cell_type": "code",
   "execution_count": 113,
   "metadata": {
    "colab": {
     "base_uri": "https://localhost:8080/",
     "height": 714
    },
    "colab_type": "code",
    "id": "J5pc4W_9QKcw",
    "outputId": "67f99676-5879-4e90-972e-e6c69afe737e"
   },
   "outputs": [
    {
     "name": "stdout",
     "output_type": "stream",
     "text": [
      "Train on 60000 samples, validate on 10000 samples\n",
      "Epoch 1/20\n",
      "60000/60000 [==============================] - 9s 151us/step - loss: 0.5365 - acc: 0.8394 - val_loss: 0.1804 - val_acc: 0.9435\n",
      "Epoch 2/20\n",
      "60000/60000 [==============================] - 6s 107us/step - loss: 0.2565 - acc: 0.9272 - val_loss: 0.1231 - val_acc: 0.9640\n",
      "Epoch 3/20\n",
      "60000/60000 [==============================] - 7s 109us/step - loss: 0.2029 - acc: 0.9414 - val_loss: 0.1000 - val_acc: 0.9694\n",
      "Epoch 4/20\n",
      "60000/60000 [==============================] - 6s 108us/step - loss: 0.1691 - acc: 0.9510 - val_loss: 0.0924 - val_acc: 0.9734\n",
      "Epoch 5/20\n",
      "60000/60000 [==============================] - 7s 111us/step - loss: 0.1521 - acc: 0.9557 - val_loss: 0.0819 - val_acc: 0.9755\n",
      "Epoch 6/20\n",
      "60000/60000 [==============================] - 6s 107us/step - loss: 0.1397 - acc: 0.9593 - val_loss: 0.0816 - val_acc: 0.9760\n",
      "Epoch 7/20\n",
      "60000/60000 [==============================] - 6s 108us/step - loss: 0.1288 - acc: 0.9628 - val_loss: 0.0749 - val_acc: 0.9765\n",
      "Epoch 8/20\n",
      "60000/60000 [==============================] - 7s 109us/step - loss: 0.1180 - acc: 0.9656 - val_loss: 0.0757 - val_acc: 0.9774\n",
      "Epoch 9/20\n",
      "60000/60000 [==============================] - 7s 110us/step - loss: 0.1115 - acc: 0.9670 - val_loss: 0.0712 - val_acc: 0.9783\n",
      "Epoch 10/20\n",
      "60000/60000 [==============================] - 7s 110us/step - loss: 0.1052 - acc: 0.9688 - val_loss: 0.0705 - val_acc: 0.9787\n",
      "Epoch 11/20\n",
      "60000/60000 [==============================] - 7s 113us/step - loss: 0.1015 - acc: 0.9711 - val_loss: 0.0675 - val_acc: 0.9796\n",
      "Epoch 12/20\n",
      "60000/60000 [==============================] - 7s 110us/step - loss: 0.0974 - acc: 0.9707 - val_loss: 0.0699 - val_acc: 0.9792\n",
      "Epoch 13/20\n",
      "60000/60000 [==============================] - 7s 108us/step - loss: 0.0951 - acc: 0.9719 - val_loss: 0.0645 - val_acc: 0.9818\n",
      "Epoch 14/20\n",
      "60000/60000 [==============================] - 7s 110us/step - loss: 0.0898 - acc: 0.9721 - val_loss: 0.0635 - val_acc: 0.9805\n",
      "Epoch 15/20\n",
      "60000/60000 [==============================] - 6s 108us/step - loss: 0.0914 - acc: 0.9732 - val_loss: 0.0634 - val_acc: 0.9810\n",
      "Epoch 16/20\n",
      "60000/60000 [==============================] - 6s 106us/step - loss: 0.0821 - acc: 0.9755 - val_loss: 0.0607 - val_acc: 0.9830\n",
      "Epoch 17/20\n",
      "60000/60000 [==============================] - 7s 117us/step - loss: 0.0810 - acc: 0.9759 - val_loss: 0.0609 - val_acc: 0.9828\n",
      "Epoch 18/20\n",
      "60000/60000 [==============================] - 6s 108us/step - loss: 0.0763 - acc: 0.9775 - val_loss: 0.0605 - val_acc: 0.9812\n",
      "Epoch 19/20\n",
      "60000/60000 [==============================] - 7s 110us/step - loss: 0.0779 - acc: 0.9766 - val_loss: 0.0592 - val_acc: 0.9827\n",
      "Epoch 20/20\n",
      "60000/60000 [==============================] - 7s 117us/step - loss: 0.0743 - acc: 0.9781 - val_loss: 0.0600 - val_acc: 0.9840\n"
     ]
    }
   ],
   "source": [
    "model_drop.compile(optimizer='adam', loss='categorical_crossentropy', metrics=['accuracy'])\n",
    "history = model_drop.fit(X_train, Y_train, batch_size=batch_size, epochs=nb_epoch, verbose=1, validation_data=(X_test, Y_test))"
   ]
  },
  {
   "cell_type": "code",
   "execution_count": 114,
   "metadata": {
    "colab": {
     "base_uri": "https://localhost:8080/",
     "height": 313
    },
    "colab_type": "code",
    "id": "i5WcfQRFQKc0",
    "outputId": "31bca639-267a-42d0-eb88-fa107d79b484"
   },
   "outputs": [
    {
     "name": "stdout",
     "output_type": "stream",
     "text": [
      "Test score: 0.05998181880775373\n",
      "Test accuracy: 0.984\n"
     ]
    },
    {
     "data": {
      "image/png": "[encoded data removed]",
      "text/plain": [
       "<matplotlib.figure.Figure at 0x7fd3bd1e40f0>"
      ]
     },
     "metadata": {
      "tags": []
     },
     "output_type": "display_data"
    }
   ],
   "source": [
    "score = model_drop.evaluate(X_test, Y_test, verbose=0) \n",
    "print('Test score:', score[0]) \n",
    "print('Test accuracy:', score[1])\n",
    "fig,ax = plt.subplots(1,1)\n",
    "ax.set_xlabel('epoch') ; ax.set_ylabel('Categorical Crossentropy Loss')\n",
    "x = list(range(1,nb_epoch+1))\n",
    "vy = history.history['val_loss']\n",
    "ty = history.history['loss']\n",
    "plt_dynamic(x, vy, ty, ax)"
   ]
  },
  {
   "cell_type": "markdown",
   "metadata": {
    "colab_type": "text",
    "id": "w2nB2OajLPAj"
   },
   "source": [
    "<h2> 5. MLP with 3 Layes+ Relu+AdamOptimizer </h2>"
   ]
  },
  {
   "cell_type": "code",
   "execution_count": 115,
   "metadata": {
    "colab": {
     "base_uri": "https://localhost:8080/",
     "height": 272
    },
    "colab_type": "code",
    "id": "xkrN7R_uLaST",
    "outputId": "d7e1ac95-d33b-4eaf-b03f-1d26f3397946"
   },
   "outputs": [
    {
     "name": "stdout",
     "output_type": "stream",
     "text": [
      "_________________________________________________________________\n",
      "Layer (type)                 Output Shape              Param #   \n",
      "=================================================================\n",
      "dense_53 (Dense)             (None, 364)               285740    \n",
      "_________________________________________________________________\n",
      "dense_54 (Dense)             (None, 52)                18980     \n",
      "_________________________________________________________________\n",
      "dense_55 (Dense)             (None, 25)                1325      \n",
      "_________________________________________________________________\n",
      "dense_56 (Dense)             (None, 10)                260       \n",
      "=================================================================\n",
      "Total params: 306,305\n",
      "Trainable params: 306,305\n",
      "Non-trainable params: 0\n",
      "_________________________________________________________________\n"
     ]
    }
   ],
   "source": [
    "model_relu_3layers = Sequential()\n",
    "\n",
    "model_relu_3layers.add(Dense(364, activation='relu', input_shape=(input_dim,), kernel_initializer=RandomNormal(mean=0.0, stddev=0.041, seed=None)))\n",
    "\n",
    "model_relu_3layers.add(Dense(52, activation='relu', kernel_initializer=RandomNormal(mean=0.0, stddev=0.079, seed=None)) )\n",
    "\n",
    "model_relu_3layers.add(Dense(25, activation='relu', kernel_initializer=RandomNormal(mean=0.0, stddev=0.161, seed=None)) )\n",
    "\n",
    "model_relu_3layers.add(Dense(output_dim, activation='softmax'))\n",
    "\n",
    "model_relu_3layers.summary()"
   ]
  },
  {
   "cell_type": "code",
   "execution_count": 116,
   "metadata": {
    "colab": {
     "base_uri": "https://localhost:8080/",
     "height": 714
    },
    "colab_type": "code",
    "id": "Kl8SdSipL27N",
    "outputId": "a0813ed1-4026-454d-ed64-80ceecc461c3"
   },
   "outputs": [
    {
     "name": "stdout",
     "output_type": "stream",
     "text": [
      "Train on 60000 samples, validate on 10000 samples\n",
      "Epoch 1/20\n",
      "60000/60000 [==============================] - 6s 107us/step - loss: 0.2935 - acc: 0.9149 - val_loss: 0.1368 - val_acc: 0.9585\n",
      "Epoch 2/20\n",
      "60000/60000 [==============================] - 4s 65us/step - loss: 0.1116 - acc: 0.9672 - val_loss: 0.1082 - val_acc: 0.9684\n",
      "Epoch 3/20\n",
      "60000/60000 [==============================] - 4s 65us/step - loss: 0.0729 - acc: 0.9781 - val_loss: 0.0906 - val_acc: 0.9718\n",
      "Epoch 4/20\n",
      "60000/60000 [==============================] - 4s 65us/step - loss: 0.0534 - acc: 0.9836 - val_loss: 0.0782 - val_acc: 0.9754\n",
      "Epoch 5/20\n",
      "60000/60000 [==============================] - 4s 70us/step - loss: 0.0388 - acc: 0.9880 - val_loss: 0.0730 - val_acc: 0.9796\n",
      "Epoch 6/20\n",
      "60000/60000 [==============================] - 4s 73us/step - loss: 0.0290 - acc: 0.9907 - val_loss: 0.0743 - val_acc: 0.9783\n",
      "Epoch 7/20\n",
      "60000/60000 [==============================] - 4s 68us/step - loss: 0.0251 - acc: 0.9921 - val_loss: 0.0755 - val_acc: 0.9776\n",
      "Epoch 8/20\n",
      "60000/60000 [==============================] - 4s 67us/step - loss: 0.0194 - acc: 0.9938 - val_loss: 0.0734 - val_acc: 0.9789\n",
      "Epoch 9/20\n",
      "60000/60000 [==============================] - 4s 68us/step - loss: 0.0173 - acc: 0.9942 - val_loss: 0.0843 - val_acc: 0.9782\n",
      "Epoch 10/20\n",
      "60000/60000 [==============================] - 4s 70us/step - loss: 0.0142 - acc: 0.9954 - val_loss: 0.0746 - val_acc: 0.9813\n",
      "Epoch 11/20\n",
      "60000/60000 [==============================] - 4s 64us/step - loss: 0.0149 - acc: 0.9951 - val_loss: 0.0887 - val_acc: 0.9790\n",
      "Epoch 12/20\n",
      "60000/60000 [==============================] - 4s 65us/step - loss: 0.0108 - acc: 0.9962 - val_loss: 0.0864 - val_acc: 0.9798\n",
      "Epoch 13/20\n",
      "60000/60000 [==============================] - 4s 64us/step - loss: 0.0107 - acc: 0.9966 - val_loss: 0.0906 - val_acc: 0.9783\n",
      "Epoch 14/20\n",
      "60000/60000 [==============================] - 4s 63us/step - loss: 0.0090 - acc: 0.9970 - val_loss: 0.0857 - val_acc: 0.9799\n",
      "Epoch 15/20\n",
      "60000/60000 [==============================] - 4s 63us/step - loss: 0.0110 - acc: 0.9964 - val_loss: 0.0845 - val_acc: 0.9807\n",
      "Epoch 16/20\n",
      "60000/60000 [==============================] - 4s 64us/step - loss: 0.0046 - acc: 0.9987 - val_loss: 0.0931 - val_acc: 0.9815\n",
      "Epoch 17/20\n",
      "60000/60000 [==============================] - 4s 62us/step - loss: 0.0106 - acc: 0.9965 - val_loss: 0.1070 - val_acc: 0.9775\n",
      "Epoch 18/20\n",
      "60000/60000 [==============================] - 4s 63us/step - loss: 0.0091 - acc: 0.9971 - val_loss: 0.0904 - val_acc: 0.9818\n",
      "Epoch 19/20\n",
      "60000/60000 [==============================] - 4s 62us/step - loss: 0.0104 - acc: 0.9967 - val_loss: 0.0886 - val_acc: 0.9806\n",
      "Epoch 20/20\n",
      "60000/60000 [==============================] - 4s 62us/step - loss: 0.0059 - acc: 0.9982 - val_loss: 0.0987 - val_acc: 0.9801\n"
     ]
    }
   ],
   "source": [
    "model_relu_3layers.compile(optimizer='adam', loss='categorical_crossentropy', metrics=['accuracy'])\n",
    "\n",
    "history = model_relu_3layers.fit(X_train, Y_train, batch_size=batch_size, epochs=nb_epoch, verbose=1, validation_data=(X_test, Y_test))"
   ]
  },
  {
   "cell_type": "code",
   "execution_count": 117,
   "metadata": {
    "colab": {
     "base_uri": "https://localhost:8080/",
     "height": 313
    },
    "colab_type": "code",
    "id": "UoJUnRbfMxGb",
    "outputId": "7642c573-cb5c-407c-fc29-827c8e56632d"
   },
   "outputs": [
    {
     "name": "stdout",
     "output_type": "stream",
     "text": [
      "Test score: 0.09865239412761967\n",
      "Test accuracy: 0.9801\n"
     ]
    },
    {
     "data": {
      "image/png": "[encoded data removed]",
      "text/plain": [
       "<matplotlib.figure.Figure at 0x7fd3bcc580f0>"
      ]
     },
     "metadata": {
      "tags": []
     },
     "output_type": "display_data"
    }
   ],
   "source": [
    "score = model_relu_3layers.evaluate(X_test, Y_test, verbose=0) \n",
    "print('Test score:', score[0]) \n",
    "print('Test accuracy:', score[1])\n",
    "\n",
    "fig,ax = plt.subplots(1,1)\n",
    "ax.set_xlabel('epoch') ; ax.set_ylabel('Categorical Crossentropy Loss')\n",
    "\n",
    "# list of epoch numbers\n",
    "x = list(range(1,nb_epoch+1))\n",
    "\n",
    "# print(history.history.keys())\n",
    "# dict_keys(['val_loss', 'val_acc', 'loss', 'acc'])\n",
    "# history = model_drop.fit(X_train, Y_train, batch_size=batch_size, epochs=nb_epoch, verbose=1, validation_data=(X_test, Y_test))\n",
    "\n",
    "# we will get val_loss and val_acc only when you pass the paramter validation_data\n",
    "# val_loss : validation loss\n",
    "# val_acc : validation accuracy\n",
    "\n",
    "# loss : training loss\n",
    "# acc : train accuracy\n",
    "# for each key in histrory.histrory we will have a list of length equal to number of epochs\n",
    "\n",
    "vy = history.history['val_loss']\n",
    "ty = history.history['loss']\n",
    "plt_dynamic(x, vy, ty, ax)"
   ]
  },
  {
   "cell_type": "markdown",
   "metadata": {
    "colab_type": "text",
    "id": "_ZXpBacIOTCY"
   },
   "source": [
    "<h2> 5. MLP with 3layers+ Relu+BatchNormalization+Dropout + AdamOptimizer </h2>"
   ]
  },
  {
   "cell_type": "code",
   "execution_count": 118,
   "metadata": {
    "colab": {
     "base_uri": "https://localhost:8080/",
     "height": 476
    },
    "colab_type": "code",
    "id": "ppB_Wu3tdKNT",
    "outputId": "59847d90-874d-4f93-e6c3-cd76de577308"
   },
   "outputs": [
    {
     "name": "stdout",
     "output_type": "stream",
     "text": [
      "_________________________________________________________________\n",
      "Layer (type)                 Output Shape              Param #   \n",
      "=================================================================\n",
      "dense_57 (Dense)             (None, 364)               285740    \n",
      "_________________________________________________________________\n",
      "batch_normalization_23 (Batc (None, 364)               1456      \n",
      "_________________________________________________________________\n",
      "dropout_19 (Dropout)         (None, 364)               0         \n",
      "_________________________________________________________________\n",
      "dense_58 (Dense)             (None, 52)                18980     \n",
      "_________________________________________________________________\n",
      "batch_normalization_24 (Batc (None, 52)                208       \n",
      "_________________________________________________________________\n",
      "dropout_20 (Dropout)         (None, 52)                0         \n",
      "_________________________________________________________________\n",
      "dense_59 (Dense)             (None, 25)                1325      \n",
      "_________________________________________________________________\n",
      "batch_normalization_25 (Batc (None, 25)                100       \n",
      "_________________________________________________________________\n",
      "dropout_21 (Dropout)         (None, 25)                0         \n",
      "_________________________________________________________________\n",
      "dense_60 (Dense)             (None, 10)                260       \n",
      "=================================================================\n",
      "Total params: 308,069\n",
      "Trainable params: 307,187\n",
      "Non-trainable params: 882\n",
      "_________________________________________________________________\n"
     ]
    }
   ],
   "source": [
    "model_3layers = Sequential()\n",
    "\n",
    "model_3layers.add(Dense(364, activation='relu', input_shape=(input_dim,), kernel_initializer=RandomNormal(mean=0.0, stddev=0.041, seed=None)))\n",
    "model_3layers.add(BatchNormalization())\n",
    "model_3layers.add(Dropout(0.5))\n",
    "\n",
    "model_3layers.add(Dense(52, activation='relu', kernel_initializer=RandomNormal(mean=0.0, stddev=0.079, seed=None)) )\n",
    "model_3layers.add(BatchNormalization())\n",
    "model_3layers.add(Dropout(0.5))\n",
    "\n",
    "model_3layers.add(Dense(25, activation='relu', kernel_initializer=RandomNormal(mean=0.0, stddev=0.161, seed=None)) )\n",
    "model_3layers.add(BatchNormalization())\n",
    "model_3layers.add(Dropout(0.5))\n",
    "\n",
    "\n",
    "\n",
    "model_3layers.add(Dense(output_dim, activation='softmax'))\n",
    "\n",
    "\n",
    "model_3layers.summary()"
   ]
  },
  {
   "cell_type": "code",
   "execution_count": 119,
   "metadata": {
    "colab": {
     "base_uri": "https://localhost:8080/",
     "height": 714
    },
    "colab_type": "code",
    "id": "hft1XGlT7V6h",
    "outputId": "d93ddab4-a91a-4c01-e9c9-8d54a35a8c80"
   },
   "outputs": [
    {
     "name": "stdout",
     "output_type": "stream",
     "text": [
      "Train on 60000 samples, validate on 10000 samples\n",
      "Epoch 1/20\n",
      "60000/60000 [==============================] - 11s 185us/step - loss: 1.0643 - acc: 0.6694 - val_loss: 0.2346 - val_acc: 0.9336\n",
      "Epoch 2/20\n",
      "60000/60000 [==============================] - 8s 133us/step - loss: 0.4785 - acc: 0.8690 - val_loss: 0.1582 - val_acc: 0.9528\n",
      "Epoch 3/20\n",
      "60000/60000 [==============================] - 8s 134us/step - loss: 0.3547 - acc: 0.9057 - val_loss: 0.1294 - val_acc: 0.9620\n",
      "Epoch 4/20\n",
      "60000/60000 [==============================] - 8s 133us/step - loss: 0.2950 - acc: 0.9236 - val_loss: 0.1180 - val_acc: 0.9659\n",
      "Epoch 5/20\n",
      "60000/60000 [==============================] - 8s 135us/step - loss: 0.2654 - acc: 0.9325 - val_loss: 0.1070 - val_acc: 0.9702\n",
      "Epoch 6/20\n",
      "60000/60000 [==============================] - 8s 132us/step - loss: 0.2436 - acc: 0.9381 - val_loss: 0.1031 - val_acc: 0.9704\n",
      "Epoch 7/20\n",
      "60000/60000 [==============================] - 8s 134us/step - loss: 0.2182 - acc: 0.9441 - val_loss: 0.1004 - val_acc: 0.9720\n",
      "Epoch 8/20\n",
      "60000/60000 [==============================] - 8s 132us/step - loss: 0.2069 - acc: 0.9480 - val_loss: 0.0905 - val_acc: 0.9737\n",
      "Epoch 9/20\n",
      "60000/60000 [==============================] - 8s 133us/step - loss: 0.1944 - acc: 0.9515 - val_loss: 0.0925 - val_acc: 0.9750\n",
      "Epoch 10/20\n",
      "60000/60000 [==============================] - 8s 134us/step - loss: 0.1828 - acc: 0.9534 - val_loss: 0.0880 - val_acc: 0.9761\n",
      "Epoch 11/20\n",
      "60000/60000 [==============================] - 8s 134us/step - loss: 0.1786 - acc: 0.9551 - val_loss: 0.0878 - val_acc: 0.9739\n",
      "Epoch 12/20\n",
      "60000/60000 [==============================] - 8s 132us/step - loss: 0.1764 - acc: 0.9565 - val_loss: 0.0837 - val_acc: 0.9772\n",
      "Epoch 13/20\n",
      "60000/60000 [==============================] - 8s 134us/step - loss: 0.1622 - acc: 0.9589 - val_loss: 0.0840 - val_acc: 0.9783\n",
      "Epoch 14/20\n",
      "60000/60000 [==============================] - 8s 132us/step - loss: 0.1542 - acc: 0.9612 - val_loss: 0.0827 - val_acc: 0.9772\n",
      "Epoch 15/20\n",
      "60000/60000 [==============================] - 8s 131us/step - loss: 0.1550 - acc: 0.9612 - val_loss: 0.0862 - val_acc: 0.9786\n",
      "Epoch 16/20\n",
      "60000/60000 [==============================] - 8s 132us/step - loss: 0.1457 - acc: 0.9644 - val_loss: 0.0779 - val_acc: 0.9801\n",
      "Epoch 17/20\n",
      "60000/60000 [==============================] - 8s 132us/step - loss: 0.1462 - acc: 0.9639 - val_loss: 0.0768 - val_acc: 0.9787\n",
      "Epoch 18/20\n",
      "60000/60000 [==============================] - 8s 132us/step - loss: 0.1373 - acc: 0.9656 - val_loss: 0.0756 - val_acc: 0.9798\n",
      "Epoch 19/20\n",
      "60000/60000 [==============================] - 8s 131us/step - loss: 0.1365 - acc: 0.9661 - val_loss: 0.0790 - val_acc: 0.9797\n",
      "Epoch 20/20\n",
      "60000/60000 [==============================] - 8s 133us/step - loss: 0.1334 - acc: 0.9662 - val_loss: 0.0776 - val_acc: 0.9797\n"
     ]
    }
   ],
   "source": [
    "model_3layers.compile(optimizer='adam', loss='categorical_crossentropy', metrics=['accuracy'])\n",
    "\n",
    "history = model_3layers.fit(X_train, Y_train, batch_size=batch_size, epochs=nb_epoch, verbose=1, validation_data=(X_test, Y_test))"
   ]
  },
  {
   "cell_type": "code",
   "execution_count": 120,
   "metadata": {
    "colab": {
     "base_uri": "https://localhost:8080/",
     "height": 313
    },
    "colab_type": "code",
    "id": "2-gsUoLBd3bg",
    "outputId": "d27b64c0-b1ba-4f64-8692-be0ae1bb5872"
   },
   "outputs": [
    {
     "name": "stdout",
     "output_type": "stream",
     "text": [
      "Test score: 0.07759342590162414\n",
      "Test accuracy: 0.9797\n"
     ]
    },
    {
     "data": {
      "image/png": "[encoded data removed]",
      "text/plain": [
       "<matplotlib.figure.Figure at 0x7fd3bfb63080>"
      ]
     },
     "metadata": {
      "tags": []
     },
     "output_type": "display_data"
    }
   ],
   "source": [
    "score = model_3layers.evaluate(X_test, Y_test, verbose=0) \n",
    "print('Test score:', score[0]) \n",
    "print('Test accuracy:', score[1])\n",
    "\n",
    "fig,ax = plt.subplots(1,1)\n",
    "ax.set_xlabel('epoch') ; ax.set_ylabel('Categorical Crossentropy Loss')\n",
    "\n",
    "# list of epoch numbers\n",
    "x = list(range(1,nb_epoch+1))\n",
    "\n",
    "# print(history.history.keys())\n",
    "# dict_keys(['val_loss', 'val_acc', 'loss', 'acc'])\n",
    "# history = model_drop.fit(X_train, Y_train, batch_size=batch_size, epochs=nb_epoch, verbose=1, validation_data=(X_test, Y_test))\n",
    "\n",
    "# we will get val_loss and val_acc only when you pass the paramter validation_data\n",
    "# val_loss : validation loss\n",
    "# val_acc : validation accuracy\n",
    "\n",
    "# loss : training loss\n",
    "# acc : train accuracy\n",
    "# for each key in histrory.histrory we will have a list of length equal to number of epochs\n",
    "\n",
    "vy = history.history['val_loss']\n",
    "ty = history.history['loss']\n",
    "plt_dynamic(x, vy, ty, ax)"
   ]
  },
  {
   "cell_type": "markdown",
   "metadata": {
    "colab_type": "text",
    "id": "1mXyirwUPBNm"
   },
   "source": [
    "<h2> 5. MLP with 5layers+ Relu+ AdamOptimizer </h2>"
   ]
  },
  {
   "cell_type": "code",
   "execution_count": 121,
   "metadata": {
    "colab": {
     "base_uri": "https://localhost:8080/",
     "height": 306
    },
    "colab_type": "code",
    "id": "Vk-2wcl2PHbk",
    "outputId": "59c17c4b-6673-4609-a4d7-e272ce8a4910"
   },
   "outputs": [
    {
     "name": "stdout",
     "output_type": "stream",
     "text": [
      "_________________________________________________________________\n",
      "Layer (type)                 Output Shape              Param #   \n",
      "=================================================================\n",
      "dense_61 (Dense)             (None, 364)               285740    \n",
      "_________________________________________________________________\n",
      "dense_62 (Dense)             (None, 52)                18980     \n",
      "_________________________________________________________________\n",
      "dense_63 (Dense)             (None, 25)                1325      \n",
      "_________________________________________________________________\n",
      "dense_64 (Dense)             (None, 10)                260       \n",
      "_________________________________________________________________\n",
      "dense_65 (Dense)             (None, 10)                110       \n",
      "=================================================================\n",
      "Total params: 306,415\n",
      "Trainable params: 306,415\n",
      "Non-trainable params: 0\n",
      "_________________________________________________________________\n"
     ]
    }
   ],
   "source": [
    "model_relu_5layers = Sequential()\n",
    "\n",
    "model_relu_5layers.add(Dense(364, activation='relu', input_shape=(input_dim,), kernel_initializer=RandomNormal(mean=0.0, stddev=0.041, seed=None)))\n",
    "model_relu_5layers.add(Dense(52, activation='relu', kernel_initializer=RandomNormal(mean=0.0, stddev=0.079, seed=None)) )\n",
    "\n",
    "model_relu_5layers.add(Dense(25, activation='relu', kernel_initializer=RandomNormal(mean=0.0, stddev=0.161, seed=None)) )\n",
    "\n",
    "model_relu_5layers.add(Dense(10, activation='relu', kernel_initializer=RandomNormal(mean=0.0, stddev=0.239, seed=None)) )\n",
    "\n",
    "model_relu_5layers.add(Dense(output_dim, activation='softmax'))\n",
    "\n",
    "\n",
    "model_relu_5layers.summary()"
   ]
  },
  {
   "cell_type": "code",
   "execution_count": 122,
   "metadata": {
    "colab": {
     "base_uri": "https://localhost:8080/",
     "height": 714
    },
    "colab_type": "code",
    "id": "SMFKkCM8Pm-m",
    "outputId": "b0f0f131-124c-41dd-b8ac-90cb0754ca1d"
   },
   "outputs": [
    {
     "name": "stdout",
     "output_type": "stream",
     "text": [
      "Train on 60000 samples, validate on 10000 samples\n",
      "Epoch 1/20\n",
      "60000/60000 [==============================] - 7s 111us/step - loss: 0.4157 - acc: 0.8767 - val_loss: 0.1925 - val_acc: 0.9444\n",
      "Epoch 2/20\n",
      "60000/60000 [==============================] - 4s 70us/step - loss: 0.1240 - acc: 0.9651 - val_loss: 0.1089 - val_acc: 0.9672\n",
      "Epoch 3/20\n",
      "60000/60000 [==============================] - 4s 71us/step - loss: 0.0799 - acc: 0.9763 - val_loss: 0.0925 - val_acc: 0.9722\n",
      "Epoch 4/20\n",
      "60000/60000 [==============================] - 4s 71us/step - loss: 0.0577 - acc: 0.9821 - val_loss: 0.0819 - val_acc: 0.9754\n",
      "Epoch 5/20\n",
      "60000/60000 [==============================] - 4s 73us/step - loss: 0.0414 - acc: 0.9869 - val_loss: 0.0802 - val_acc: 0.9762\n",
      "Epoch 6/20\n",
      "60000/60000 [==============================] - 4s 73us/step - loss: 0.0340 - acc: 0.9892 - val_loss: 0.0952 - val_acc: 0.9743\n",
      "Epoch 7/20\n",
      "60000/60000 [==============================] - 5s 78us/step - loss: 0.0260 - acc: 0.9914 - val_loss: 0.0807 - val_acc: 0.9775\n",
      "Epoch 8/20\n",
      "60000/60000 [==============================] - 4s 74us/step - loss: 0.0184 - acc: 0.9944 - val_loss: 0.0875 - val_acc: 0.9770\n",
      "Epoch 9/20\n",
      "60000/60000 [==============================] - 4s 72us/step - loss: 0.0193 - acc: 0.9934 - val_loss: 0.0928 - val_acc: 0.9757\n",
      "Epoch 10/20\n",
      "60000/60000 [==============================] - 4s 72us/step - loss: 0.0176 - acc: 0.9941 - val_loss: 0.1016 - val_acc: 0.9762\n",
      "Epoch 11/20\n",
      "60000/60000 [==============================] - 4s 73us/step - loss: 0.0132 - acc: 0.9958 - val_loss: 0.0829 - val_acc: 0.9793\n",
      "Epoch 12/20\n",
      "60000/60000 [==============================] - 4s 73us/step - loss: 0.0131 - acc: 0.9956 - val_loss: 0.0912 - val_acc: 0.9799\n",
      "Epoch 13/20\n",
      "60000/60000 [==============================] - 5s 79us/step - loss: 0.0132 - acc: 0.9955 - val_loss: 0.0931 - val_acc: 0.9775\n",
      "Epoch 14/20\n",
      "60000/60000 [==============================] - 5s 78us/step - loss: 0.0129 - acc: 0.9956 - val_loss: 0.1106 - val_acc: 0.9775\n",
      "Epoch 15/20\n",
      "60000/60000 [==============================] - 4s 71us/step - loss: 0.0082 - acc: 0.9971 - val_loss: 0.1115 - val_acc: 0.9763\n",
      "Epoch 16/20\n",
      "60000/60000 [==============================] - 4s 72us/step - loss: 0.0087 - acc: 0.9971 - val_loss: 0.1188 - val_acc: 0.9754\n",
      "Epoch 17/20\n",
      "60000/60000 [==============================] - 4s 72us/step - loss: 0.0075 - acc: 0.9980 - val_loss: 0.0987 - val_acc: 0.9822\n",
      "Epoch 18/20\n",
      "60000/60000 [==============================] - 4s 70us/step - loss: 0.0132 - acc: 0.9959 - val_loss: 0.1077 - val_acc: 0.9794\n",
      "Epoch 19/20\n",
      "60000/60000 [==============================] - 4s 71us/step - loss: 0.0060 - acc: 0.9980 - val_loss: 0.1083 - val_acc: 0.9792\n",
      "Epoch 20/20\n",
      "60000/60000 [==============================] - 4s 72us/step - loss: 0.0087 - acc: 0.9971 - val_loss: 0.1163 - val_acc: 0.9780\n"
     ]
    }
   ],
   "source": [
    "model_relu_5layers.compile(optimizer='adam', loss='categorical_crossentropy', metrics=['accuracy'])\n",
    "\n",
    "history = model_relu_5layers.fit(X_train, Y_train, batch_size=batch_size, epochs=nb_epoch, verbose=1, validation_data=(X_test, Y_test))"
   ]
  },
  {
   "cell_type": "code",
   "execution_count": 123,
   "metadata": {
    "colab": {
     "base_uri": "https://localhost:8080/",
     "height": 313
    },
    "colab_type": "code",
    "id": "MADmypRoPyHv",
    "outputId": "4f1eaf88-358b-4942-ee5c-af1fa54e4934"
   },
   "outputs": [
    {
     "name": "stdout",
     "output_type": "stream",
     "text": [
      "Test score: 0.1163331188787612\n",
      "Test accuracy: 0.978\n"
     ]
    },
    {
     "data": {
      "image/png": "[encoded data removed]",
      "text/plain": [
       "<matplotlib.figure.Figure at 0x7fd3bb84c198>"
      ]
     },
     "metadata": {
      "tags": []
     },
     "output_type": "display_data"
    }
   ],
   "source": [
    "score = model_relu_5layers.evaluate(X_test, Y_test, verbose=0) \n",
    "print('Test score:', score[0]) \n",
    "print('Test accuracy:', score[1])\n",
    "\n",
    "fig,ax = plt.subplots(1,1)\n",
    "ax.set_xlabel('epoch') ; ax.set_ylabel('Categorical Crossentropy Loss')\n",
    "\n",
    "# list of epoch numbers\n",
    "x = list(range(1,nb_epoch+1))\n",
    "\n",
    "vy = history.history['val_loss']\n",
    "ty = history.history['loss']\n",
    "plt_dynamic(x, vy, ty, ax)"
   ]
  },
  {
   "cell_type": "markdown",
   "metadata": {
    "colab_type": "text",
    "id": "-0BwQdXEOwhu"
   },
   "source": [
    "<h2> 5. MLP with 5layers+ Relu+BatchNormalization+Dropout + AdamOptimizer </h2>"
   ]
  },
  {
   "cell_type": "code",
   "execution_count": 124,
   "metadata": {
    "colab": {
     "base_uri": "https://localhost:8080/",
     "height": 578
    },
    "colab_type": "code",
    "id": "7BlJDUloeRyh",
    "outputId": "6cc26c23-1fd2-491d-897d-131664d59c84"
   },
   "outputs": [
    {
     "name": "stdout",
     "output_type": "stream",
     "text": [
      "_________________________________________________________________\n",
      "Layer (type)                 Output Shape              Param #   \n",
      "=================================================================\n",
      "dense_66 (Dense)             (None, 364)               285740    \n",
      "_________________________________________________________________\n",
      "batch_normalization_26 (Batc (None, 364)               1456      \n",
      "_________________________________________________________________\n",
      "dropout_22 (Dropout)         (None, 364)               0         \n",
      "_________________________________________________________________\n",
      "dense_67 (Dense)             (None, 52)                18980     \n",
      "_________________________________________________________________\n",
      "batch_normalization_27 (Batc (None, 52)                208       \n",
      "_________________________________________________________________\n",
      "dropout_23 (Dropout)         (None, 52)                0         \n",
      "_________________________________________________________________\n",
      "dense_68 (Dense)             (None, 25)                1325      \n",
      "_________________________________________________________________\n",
      "batch_normalization_28 (Batc (None, 25)                100       \n",
      "_________________________________________________________________\n",
      "dropout_24 (Dropout)         (None, 25)                0         \n",
      "_________________________________________________________________\n",
      "dense_69 (Dense)             (None, 10)                260       \n",
      "_________________________________________________________________\n",
      "batch_normalization_29 (Batc (None, 10)                40        \n",
      "_________________________________________________________________\n",
      "dropout_25 (Dropout)         (None, 10)                0         \n",
      "_________________________________________________________________\n",
      "dense_70 (Dense)             (None, 10)                110       \n",
      "=================================================================\n",
      "Total params: 308,219\n",
      "Trainable params: 307,317\n",
      "Non-trainable params: 902\n",
      "_________________________________________________________________\n"
     ]
    }
   ],
   "source": [
    "model_5layers = Sequential()\n",
    "\n",
    "model_5layers.add(Dense(364, activation='relu', input_shape=(input_dim,), kernel_initializer=RandomNormal(mean=0.0, stddev=0.041, seed=None)))\n",
    "model_5layers.add(BatchNormalization())\n",
    "model_5layers.add(Dropout(0.5))\n",
    "\n",
    "model_5layers.add(Dense(52, activation='relu', kernel_initializer=RandomNormal(mean=0.0, stddev=0.079, seed=None)) )\n",
    "model_5layers.add(BatchNormalization())\n",
    "model_5layers.add(Dropout(0.5))\n",
    "\n",
    "model_5layers.add(Dense(25, activation='relu', kernel_initializer=RandomNormal(mean=0.0, stddev=0.161, seed=None)) )\n",
    "model_5layers.add(BatchNormalization())\n",
    "model_5layers.add(Dropout(0.5))\n",
    "\n",
    "model_5layers.add(Dense(10, activation='relu', kernel_initializer=RandomNormal(mean=0.0, stddev=0.239, seed=None)) )\n",
    "model_5layers.add(BatchNormalization())\n",
    "model_5layers.add(Dropout(0.5))\n",
    "\n",
    "\n",
    "\n",
    "model_5layers.add(Dense(output_dim, activation='softmax'))\n",
    "\n",
    "\n",
    "model_5layers.summary()"
   ]
  },
  {
   "cell_type": "code",
   "execution_count": 125,
   "metadata": {
    "colab": {
     "base_uri": "https://localhost:8080/",
     "height": 714
    },
    "colab_type": "code",
    "id": "9UKCySSV7dNx",
    "outputId": "8c93ab76-94da-49b7-b19e-250207db5742"
   },
   "outputs": [
    {
     "name": "stdout",
     "output_type": "stream",
     "text": [
      "Train on 60000 samples, validate on 10000 samples\n",
      "Epoch 1/20\n",
      "60000/60000 [==============================] - 13s 223us/step - loss: 1.8694 - acc: 0.3464 - val_loss: 0.8703 - val_acc: 0.8628\n",
      "Epoch 2/20\n",
      "60000/60000 [==============================] - 10s 164us/step - loss: 1.2428 - acc: 0.5621 - val_loss: 0.4589 - val_acc: 0.9123\n",
      "Epoch 3/20\n",
      "60000/60000 [==============================] - 10s 164us/step - loss: 0.9855 - acc: 0.6517 - val_loss: 0.3281 - val_acc: 0.9378\n",
      "Epoch 4/20\n",
      "60000/60000 [==============================] - 10s 162us/step - loss: 0.8581 - acc: 0.6966 - val_loss: 0.2480 - val_acc: 0.9485\n",
      "Epoch 5/20\n",
      "60000/60000 [==============================] - 10s 164us/step - loss: 0.7780 - acc: 0.7252 - val_loss: 0.2022 - val_acc: 0.9587\n",
      "Epoch 6/20\n",
      "60000/60000 [==============================] - 10s 165us/step - loss: 0.7209 - acc: 0.7453 - val_loss: 0.1867 - val_acc: 0.9575\n",
      "Epoch 7/20\n",
      "60000/60000 [==============================] - 10s 165us/step - loss: 0.6778 - acc: 0.7599 - val_loss: 0.1646 - val_acc: 0.9625\n",
      "Epoch 8/20\n",
      "60000/60000 [==============================] - 10s 165us/step - loss: 0.6473 - acc: 0.7712 - val_loss: 0.1591 - val_acc: 0.9647\n",
      "Epoch 9/20\n",
      "60000/60000 [==============================] - 10s 165us/step - loss: 0.6325 - acc: 0.7718 - val_loss: 0.1463 - val_acc: 0.9663\n",
      "Epoch 10/20\n",
      "60000/60000 [==============================] - 10s 164us/step - loss: 0.6177 - acc: 0.7778 - val_loss: 0.1419 - val_acc: 0.9690\n",
      "Epoch 11/20\n",
      "60000/60000 [==============================] - 10s 164us/step - loss: 0.5994 - acc: 0.7834 - val_loss: 0.1449 - val_acc: 0.9669\n",
      "Epoch 12/20\n",
      "60000/60000 [==============================] - 10s 164us/step - loss: 0.5933 - acc: 0.7863 - val_loss: 0.1353 - val_acc: 0.9700\n",
      "Epoch 13/20\n",
      "60000/60000 [==============================] - 10s 166us/step - loss: 0.5794 - acc: 0.7892 - val_loss: 0.1278 - val_acc: 0.9707\n",
      "Epoch 14/20\n",
      "60000/60000 [==============================] - 10s 166us/step - loss: 0.5731 - acc: 0.7942 - val_loss: 0.1260 - val_acc: 0.9717\n",
      "Epoch 15/20\n",
      "60000/60000 [==============================] - 10s 166us/step - loss: 0.5673 - acc: 0.7950 - val_loss: 0.1315 - val_acc: 0.9699\n",
      "Epoch 16/20\n",
      "60000/60000 [==============================] - 10s 162us/step - loss: 0.5623 - acc: 0.7962 - val_loss: 0.1306 - val_acc: 0.9719\n",
      "Epoch 17/20\n",
      "60000/60000 [==============================] - 10s 162us/step - loss: 0.5569 - acc: 0.8002 - val_loss: 0.1146 - val_acc: 0.9745\n",
      "Epoch 18/20\n",
      "60000/60000 [==============================] - 10s 167us/step - loss: 0.5407 - acc: 0.8035 - val_loss: 0.1234 - val_acc: 0.9728\n",
      "Epoch 19/20\n",
      "60000/60000 [==============================] - 10s 169us/step - loss: 0.5401 - acc: 0.8024 - val_loss: 0.1231 - val_acc: 0.9741\n",
      "Epoch 20/20\n",
      "60000/60000 [==============================] - 10s 168us/step - loss: 0.5270 - acc: 0.8073 - val_loss: 0.1197 - val_acc: 0.9747\n"
     ]
    }
   ],
   "source": [
    "model_5layers.compile(optimizer='adam', loss='categorical_crossentropy', metrics=['accuracy'])\n",
    "\n",
    "history = model_5layers.fit(X_train, Y_train, batch_size=batch_size, epochs=nb_epoch, verbose=1, validation_data=(X_test, Y_test))"
   ]
  },
  {
   "cell_type": "code",
   "execution_count": 126,
   "metadata": {
    "colab": {
     "base_uri": "https://localhost:8080/",
     "height": 313
    },
    "colab_type": "code",
    "id": "dj8Yhz5yessD",
    "outputId": "e43bda50-522d-4354-a798-9d173db029df"
   },
   "outputs": [
    {
     "name": "stdout",
     "output_type": "stream",
     "text": [
      "Test score: 0.11967902074716985\n",
      "Test accuracy: 0.9747\n"
     ]
    },
    {
     "data": {
      "image/png": "[encoded data removed]",
      "text/plain": [
       "<matplotlib.figure.Figure at 0x7fd3ba52b198>"
      ]
     },
     "metadata": {
      "tags": []
     },
     "output_type": "display_data"
    }
   ],
   "source": [
    "score = model_5layers.evaluate(X_test, Y_test, verbose=0) \n",
    "print('Test score:', score[0]) \n",
    "print('Test accuracy:', score[1])\n",
    "\n",
    "fig,ax = plt.subplots(1,1)\n",
    "ax.set_xlabel('epoch') ; ax.set_ylabel('Categorical Crossentropy Loss')\n",
    "\n",
    "# list of epoch numbers\n",
    "x = list(range(1,nb_epoch+1))\n",
    "\n",
    "vy = history.history['val_loss']\n",
    "ty = history.history['loss']\n",
    "plt_dynamic(x, vy, ty, ax)"
   ]
  },
  {
   "cell_type": "markdown",
   "metadata": {
    "colab_type": "text",
    "id": "w9QN7uQqUDhR"
   },
   "source": [
    "<h1>Conclusion</h1>"
   ]
  },
  {
   "cell_type": "code",
   "execution_count": 131,
   "metadata": {
    "colab": {
     "base_uri": "https://localhost:8080/",
     "height": 187
    },
    "colab_type": "code",
    "id": "Vm5HcBZVUBOM",
    "outputId": "e60a4c65-e732-4f91-e9f7-9011f763d5d7"
   },
   "outputs": [
    {
     "name": "stdout",
     "output_type": "stream",
     "text": [
      "+------------------------------------------------------+---------------+\n",
      "|                        Model                         | Test_Accuracy |\n",
      "+------------------------------------------------------+---------------+\n",
      "|          MLP with 784-364-128-10_Relu_Adam           |     0.981     |\n",
      "|   MLP with 784-364-128-10_Relu_Batch_dropout_Adam    |     0.984     |\n",
      "|         MLP with 784-364-52-25-10_Relu_Adam          |     0.980     |\n",
      "|  MLP with 784-364-52-25-10_Relu_Batch_dropout_Adam   |     0.979     |\n",
      "|        MLP with 784-364-52-25-10-10_Relu_Adam        |     0.978     |\n",
      "| MLP with 784-364-52-25-10-10_Relu_Batch_dropout_Adam |     0.974     |\n",
      "+------------------------------------------------------+---------------+\n"
     ]
    }
   ],
   "source": [
    "from prettytable import PrettyTable\n",
    "t = PrettyTable()\n",
    "t.field_names = ['Model', 'Test_Accuracy']\n",
    "t.add_row(['MLP with 784-364-128-10_Relu_Adam','0.981'])\n",
    "t.add_row(['MLP with 784-364-128-10_Relu_Batch_dropout_Adam','0.984'])\n",
    "t.add_row(['MLP with 784-364-52-25-10_Relu_Adam','0.980'])\n",
    "t.add_row(['MLP with 784-364-52-25-10_Relu_Batch_dropout_Adam','0.979'])\n",
    "t.add_row(['MLP with 784-364-52-25-10-10_Relu_Adam','0.978'])\n",
    "t.add_row(['MLP with 784-364-52-25-10-10_Relu_Batch_dropout_Adam','0.974'])\n",
    "print(t)"
   ]
  }
 ],
 "metadata": {
  "accelerator": "GPU",
  "colab": {
   "collapsed_sections": [],
   "name": "Keras_Mnist.ipynb",
   "provenance": [],
   "version": "0.3.2"
  },
  "kernelspec": {
   "display_name": "Python 3",
   "language": "python",
   "name": "python3"
  },
  "language_info": {
   "codemirror_mode": {
    "name": "ipython",
    "version": 3
   },
   "file_extension": ".py",
   "mimetype": "text/x-python",
   "name": "python",
   "nbconvert_exporter": "python",
   "pygments_lexer": "ipython3",
   "version": "3.6.4"
  }
 },
 "nbformat": 4,
 "nbformat_minor": 1
}
