{
 "cells": [
  {
   "cell_type": "markdown",
   "metadata": {
    "colab_type": "text",
    "id": "we87lFKb-A41"
   },
   "source": [
    "<h1>3 Convolution Layers</h1>"
   ]
  },
  {
   "cell_type": "code",
   "execution_count": 0,
   "metadata": {
    "colab": {},
    "colab_type": "code",
    "id": "d12pk9udQUPs"
   },
   "outputs": [],
   "source": [
    "def plt_dynamic(x, vy, ty, ax, colors=['b']):\n",
    "    ax.plot(x, vy, 'b', label=\"Validation Loss\")\n",
    "    ax.plot(x, ty, 'r', label=\"Train Loss\")\n",
    "    plt.legend()\n",
    "    plt.grid()\n",
    "    fig.canvas.draw()"
   ]
  },
  {
   "cell_type": "code",
   "execution_count": 9,
   "metadata": {
    "colab": {
     "base_uri": "https://localhost:8080/",
     "height": 563
    },
    "colab_type": "code",
    "id": "H9EU0e8yzFOm",
    "outputId": "09b509d0-99ca-46a5-c107-3f44c96f357f"
   },
   "outputs": [
    {
     "name": "stdout",
     "output_type": "stream",
     "text": [
      "x_train shape: (60000, 28, 28, 1)\n",
      "60000 train samples\n",
      "10000 test samples\n",
      "Train on 60000 samples, validate on 10000 samples\n",
      "Epoch 1/12\n",
      "60000/60000 [==============================] - 10s 168us/step - loss: 0.8222 - acc: 0.7366 - val_loss: 0.1412 - val_acc: 0.9565\n",
      "Epoch 2/12\n",
      "60000/60000 [==============================] - 9s 152us/step - loss: 0.3220 - acc: 0.9001 - val_loss: 0.0939 - val_acc: 0.9713\n",
      "Epoch 3/12\n",
      "60000/60000 [==============================] - 9s 153us/step - loss: 0.2397 - acc: 0.9273 - val_loss: 0.0870 - val_acc: 0.9736\n",
      "Epoch 4/12\n",
      "60000/60000 [==============================] - 9s 150us/step - loss: 0.1962 - acc: 0.9420 - val_loss: 0.0731 - val_acc: 0.9779\n",
      "Epoch 5/12\n",
      "60000/60000 [==============================] - 9s 149us/step - loss: 0.1693 - acc: 0.9488 - val_loss: 0.0699 - val_acc: 0.9790\n",
      "Epoch 6/12\n",
      "60000/60000 [==============================] - 9s 148us/step - loss: 0.1563 - acc: 0.9541 - val_loss: 0.0808 - val_acc: 0.9748\n",
      "Epoch 7/12\n",
      "60000/60000 [==============================] - 9s 148us/step - loss: 0.1411 - acc: 0.9579 - val_loss: 0.0684 - val_acc: 0.9804\n",
      "Epoch 8/12\n",
      "60000/60000 [==============================] - 9s 148us/step - loss: 0.1371 - acc: 0.9591 - val_loss: 0.0560 - val_acc: 0.9840\n",
      "Epoch 9/12\n",
      "60000/60000 [==============================] - 9s 147us/step - loss: 0.1301 - acc: 0.9620 - val_loss: 0.0606 - val_acc: 0.9820\n",
      "Epoch 10/12\n",
      "60000/60000 [==============================] - 9s 149us/step - loss: 0.1194 - acc: 0.9651 - val_loss: 0.0572 - val_acc: 0.9834\n",
      "Epoch 11/12\n",
      "60000/60000 [==============================] - 9s 147us/step - loss: 0.1155 - acc: 0.9661 - val_loss: 0.0573 - val_acc: 0.9824\n",
      "Epoch 12/12\n",
      "60000/60000 [==============================] - 9s 148us/step - loss: 0.1087 - acc: 0.9678 - val_loss: 0.0585 - val_acc: 0.9834\n",
      "Test loss: 0.05845875078524114\n",
      "Test accuracy: 0.9834\n"
     ]
    }
   ],
   "source": [
    "from __future__ import print_function\n",
    "import keras\n",
    "from keras.datasets import mnist\n",
    "from keras.models import Sequential\n",
    "from keras.layers import Dense, Dropout, Flatten\n",
    "from keras.layers import Conv2D, MaxPooling2D,BatchNormalization\n",
    "from keras import backend as K\n",
    "\n",
    "batch_size = 128\n",
    "num_classes = 10\n",
    "epochs = 12\n",
    "\n",
    "# input image dimensions\n",
    "img_rows, img_cols = 28, 28\n",
    "\n",
    "# the data, split between train and test sets\n",
    "(x_train, y_train), (x_test, y_test) = mnist.load_data()\n",
    "\n",
    "if K.image_data_format() == 'channels_first':\n",
    "    x_train = x_train.reshape(x_train.shape[0], 1, img_rows, img_cols)\n",
    "    x_test = x_test.reshape(x_test.shape[0], 1, img_rows, img_cols)\n",
    "    input_shape = (1, img_rows, img_cols)\n",
    "else:\n",
    "    x_train = x_train.reshape(x_train.shape[0], img_rows, img_cols, 1)\n",
    "    x_test = x_test.reshape(x_test.shape[0], img_rows, img_cols, 1)\n",
    "    input_shape = (img_rows, img_cols, 1)\n",
    "\n",
    "x_train = x_train.astype('float32')\n",
    "x_test = x_test.astype('float32')\n",
    "x_train /= 255\n",
    "x_test /= 255\n",
    "print('x_train shape:', x_train.shape)\n",
    "print(x_train.shape[0], 'train samples')\n",
    "print(x_test.shape[0], 'test samples')\n",
    "\n",
    "# convert class vectors to binary class matrices\n",
    "y_train = keras.utils.to_categorical(y_train, num_classes)\n",
    "y_test = keras.utils.to_categorical(y_test, num_classes)\n",
    "\n",
    "# Layer 1\n",
    "model = Sequential()\n",
    "model.add(Conv2D(32, (3, 3), input_shape=input_shape,activation='relu'))\n",
    "\n",
    "#Batch Normalization\n",
    "model.add(BatchNormalization(axis=-1))\n",
    "model.add(MaxPooling2D(pool_size=(2, 2)))\n",
    "\n",
    "# Layer 2\n",
    "model.add(Conv2D(32, (3, 3),activation='relu'))\n",
    "model.add(BatchNormalization(axis=-1))\n",
    "model.add(MaxPooling2D(pool_size=(2, 2)))\n",
    "\n",
    "# Layer 3\n",
    "model.add(Conv2D(64, (3, 3),activation='relu'))\n",
    "\n",
    "#Batch Normalization\n",
    "model.add(BatchNormalization(axis=-1))\n",
    "model.add(MaxPooling2D(pool_size=(2, 2)))\n",
    "\n",
    "#Dropout\n",
    "model.add(Dropout(0.75))\n",
    "\n",
    "#Flatten\n",
    "model.add(Flatten())\n",
    "\n",
    "#FC\n",
    "model.add(Dense(128, activation='relu'))\n",
    "model.add(Dropout(0.25))\n",
    "model.add(Dense(num_classes, activation='softmax'))\n",
    "\n",
    "model.compile(loss=keras.losses.categorical_crossentropy,\n",
    "              optimizer=keras.optimizers.Adadelta(),\n",
    "              metrics=['accuracy'])\n",
    "\n",
    "history = model.fit(x_train, y_train,\n",
    "          batch_size=batch_size,\n",
    "          epochs=epochs,\n",
    "          verbose=1,\n",
    "          validation_data=(x_test, y_test))\n",
    "score = model.evaluate(x_test, y_test, verbose=0)\n",
    "print('Test loss:', score[0])\n",
    "print('Test accuracy:', score[1])\n",
    "\n",
    "\n",
    "\n",
    "\n"
   ]
  },
  {
   "cell_type": "code",
   "execution_count": 10,
   "metadata": {
    "colab": {
     "base_uri": "https://localhost:8080/",
     "height": 279
    },
    "colab_type": "code",
    "id": "abi7hommOdtO",
    "outputId": "93293508-ac7f-45fc-901f-28fe0a89eb2e"
   },
   "outputs": [
    {
     "data": {
      "image/png": "[encoded data removed]",
      "text/plain": [
       "<matplotlib.figure.Figure at 0x7f642abbf748>"
      ]
     },
     "metadata": {
      "tags": []
     },
     "output_type": "display_data"
    }
   ],
   "source": [
    "import matplotlib.pyplot as plt\n",
    "%matplotlib notebook\n",
    "%matplotlib inline\n",
    "\n",
    "fig,ax = plt.subplots(1,1)\n",
    "ax.set_xlabel('epoch') ; ax.set_ylabel('Categorical Crossentropy Loss')\n",
    "x = list(range(1,epochs+1))\n",
    "vy = history.history['val_loss']\n",
    "ty = history.history['loss']\n",
    "plt_dynamic(x, vy, ty, ax)"
   ]
  },
  {
   "cell_type": "markdown",
   "metadata": {
    "colab_type": "text",
    "id": "Evt9hfCi-OpB"
   },
   "source": [
    "<h1>5 Convolutional Layers</h1>"
   ]
  },
  {
   "cell_type": "code",
   "execution_count": 11,
   "metadata": {
    "colab": {
     "base_uri": "https://localhost:8080/",
     "height": 563
    },
    "colab_type": "code",
    "id": "USpx13lBj81D",
    "outputId": "a54c2fa8-8f3e-4282-ec85-bdb10b4fbb9d"
   },
   "outputs": [
    {
     "name": "stdout",
     "output_type": "stream",
     "text": [
      "x_train shape: (60000, 28, 28, 1)\n",
      "60000 train samples\n",
      "10000 test samples\n",
      "Train on 60000 samples, validate on 10000 samples\n",
      "Epoch 1/12\n",
      "60000/60000 [==============================] - 11s 177us/step - loss: 0.6062 - acc: 0.8021 - val_loss: 0.0963 - val_acc: 0.9680\n",
      "Epoch 2/12\n",
      "60000/60000 [==============================] - 9s 151us/step - loss: 0.1219 - acc: 0.9660 - val_loss: 0.0784 - val_acc: 0.9772\n",
      "Epoch 3/12\n",
      "60000/60000 [==============================] - 9s 149us/step - loss: 0.0826 - acc: 0.9774 - val_loss: 0.0595 - val_acc: 0.9830\n",
      "Epoch 4/12\n",
      "60000/60000 [==============================] - 9s 147us/step - loss: 0.0646 - acc: 0.9820 - val_loss: 0.0435 - val_acc: 0.9882\n",
      "Epoch 5/12\n",
      "60000/60000 [==============================] - 9s 148us/step - loss: 0.0544 - acc: 0.9853 - val_loss: 0.0456 - val_acc: 0.9871\n",
      "Epoch 6/12\n",
      "60000/60000 [==============================] - 9s 147us/step - loss: 0.0454 - acc: 0.9875 - val_loss: 0.0371 - val_acc: 0.9907\n",
      "Epoch 7/12\n",
      "60000/60000 [==============================] - 9s 147us/step - loss: 0.0406 - acc: 0.9891 - val_loss: 0.0325 - val_acc: 0.9915\n",
      "Epoch 8/12\n",
      "60000/60000 [==============================] - 9s 147us/step - loss: 0.0336 - acc: 0.9904 - val_loss: 0.0350 - val_acc: 0.9908\n",
      "Epoch 9/12\n",
      "60000/60000 [==============================] - 9s 147us/step - loss: 0.0313 - acc: 0.9915 - val_loss: 0.0344 - val_acc: 0.9908\n",
      "Epoch 10/12\n",
      "60000/60000 [==============================] - 9s 147us/step - loss: 0.0292 - acc: 0.9922 - val_loss: 0.0315 - val_acc: 0.9920\n",
      "Epoch 11/12\n",
      "60000/60000 [==============================] - 9s 149us/step - loss: 0.0253 - acc: 0.9931 - val_loss: 0.0317 - val_acc: 0.9917\n",
      "Epoch 12/12\n",
      "60000/60000 [==============================] - 9s 148us/step - loss: 0.0218 - acc: 0.9942 - val_loss: 0.0370 - val_acc: 0.9913\n",
      "Test loss: 0.03695868545889652\n",
      "Test accuracy: 0.9913\n"
     ]
    }
   ],
   "source": [
    "# Credits: https://github.com/keras-team/keras/blob/master/examples/mnist_cnn.py\n",
    "\n",
    "\n",
    "from __future__ import print_function\n",
    "import keras\n",
    "from keras.datasets import mnist\n",
    "from keras.models import Sequential\n",
    "from keras.layers import Dense, Dropout, Flatten\n",
    "from keras.layers import Conv2D, MaxPooling2D\n",
    "from keras import backend as K\n",
    "\n",
    "batch_size = 128\n",
    "num_classes = 10\n",
    "epochs = 12\n",
    "\n",
    "# input image dimensions\n",
    "img_rows, img_cols = 28, 28\n",
    "\n",
    "# the data, split between train and test sets\n",
    "(x_train, y_train), (x_test, y_test) = mnist.load_data()\n",
    "\n",
    "if K.image_data_format() == 'channels_first':\n",
    "    x_train = x_train.reshape(x_train.shape[0], 1, img_rows, img_cols)\n",
    "    x_test = x_test.reshape(x_test.shape[0], 1, img_rows, img_cols)\n",
    "    input_shape = (1, img_rows, img_cols)\n",
    "else:\n",
    "    x_train = x_train.reshape(x_train.shape[0], img_rows, img_cols, 1)\n",
    "    x_test = x_test.reshape(x_test.shape[0], img_rows, img_cols, 1)\n",
    "    input_shape = (img_rows, img_cols, 1)\n",
    "\n",
    "x_train = x_train.astype('float32')\n",
    "x_test = x_test.astype('float32')\n",
    "x_train /= 255\n",
    "x_test /= 255\n",
    "print('x_train shape:', x_train.shape)\n",
    "print(x_train.shape[0], 'train samples')\n",
    "print(x_test.shape[0], 'test samples')\n",
    "\n",
    "# convert class vectors to binary class matrices\n",
    "y_train = keras.utils.to_categorical(y_train, num_classes)\n",
    "y_test = keras.utils.to_categorical(y_test, num_classes)\n",
    "\n",
    "model = Sequential()\n",
    "\n",
    "# Layer 1\n",
    "model.add(Conv2D(32, (5, 5), input_shape=input_shape,activation='relu'))\n",
    "\n",
    "# Layer 2\n",
    "model.add(Conv2D(32, (5, 5),activation='relu'))\n",
    "model.add(MaxPooling2D(pool_size=(2, 2)))\n",
    "\n",
    "\n",
    "# Layer 3\n",
    "model.add(Conv2D(64, (3, 3),activation='relu'))\n",
    "\n",
    "\n",
    "# Layer 4\n",
    "model.add(Conv2D(64, (3, 3),activation='relu'))\n",
    "model.add(MaxPooling2D(pool_size=(2, 2)))\n",
    "\n",
    "\n",
    "# Layer 5\n",
    "model.add(Conv2D(120, (1, 1),activation='relu'))\n",
    "model.add(MaxPooling2D(pool_size=(2, 2)))\n",
    "\n",
    "model.add(Dropout(0.25))\n",
    "model.add(Flatten())\n",
    "model.add(Dense(128, activation='relu'))\n",
    "model.add(Dropout(0.5))\n",
    "model.add(Dense(num_classes, activation='softmax'))\n",
    "\n",
    "model.compile(loss=keras.losses.categorical_crossentropy,\n",
    "              optimizer=keras.optimizers.Adadelta(),\n",
    "              metrics=['accuracy'])\n",
    "\n",
    "history = model.fit(x_train, y_train,\n",
    "          batch_size=batch_size,\n",
    "          epochs=epochs,\n",
    "          verbose=1,\n",
    "          validation_data=(x_test, y_test))\n",
    "score = model.evaluate(x_test, y_test, verbose=0)\n",
    "print('Test loss:', score[0])\n",
    "print('Test accuracy:', score[1])\n",
    "\n"
   ]
  },
  {
   "cell_type": "code",
   "execution_count": 12,
   "metadata": {
    "colab": {
     "base_uri": "https://localhost:8080/",
     "height": 279
    },
    "colab_type": "code",
    "id": "TBNCzQ7lOv1I",
    "outputId": "815b9750-5c00-4081-b4bc-f5abbd5b9659"
   },
   "outputs": [
    {
     "data": {
      "image/png": "[encoded data removed]",
      "text/plain": [
       "<matplotlib.figure.Figure at 0x7f642abbf6d8>"
      ]
     },
     "metadata": {
      "tags": []
     },
     "output_type": "display_data"
    }
   ],
   "source": [
    "import matplotlib.pyplot as plt\n",
    "%matplotlib notebook\n",
    "%matplotlib inline\n",
    "\n",
    "fig,ax = plt.subplots(1,1)\n",
    "ax.set_xlabel('epoch') ; ax.set_ylabel('Categorical Crossentropy Loss')\n",
    "x = list(range(1,epochs+1))\n",
    "vy = history.history['val_loss']\n",
    "ty = history.history['loss']\n",
    "plt_dynamic(x, vy, ty, ax)"
   ]
  },
  {
   "cell_type": "markdown",
   "metadata": {
    "colab_type": "text",
    "id": "QROTpBhn-Ysi"
   },
   "source": [
    "<h1> 7 Convolutional Layers</h1>"
   ]
  },
  {
   "cell_type": "code",
   "execution_count": 16,
   "metadata": {
    "colab": {
     "base_uri": "https://localhost:8080/",
     "height": 563
    },
    "colab_type": "code",
    "id": "bgSKevx_sPxu",
    "outputId": "8b8c6fc3-15aa-4edd-e9c8-30e59d0cb713"
   },
   "outputs": [
    {
     "name": "stdout",
     "output_type": "stream",
     "text": [
      "x_train shape: (60000, 28, 28, 1)\n",
      "60000 train samples\n",
      "10000 test samples\n",
      "Train on 60000 samples, validate on 10000 samples\n",
      "Epoch 1/12\n",
      "60000/60000 [==============================] - 11s 179us/step - loss: 0.8259 - acc: 0.7213 - val_loss: 0.1343 - val_acc: 0.9586\n",
      "Epoch 2/12\n",
      "60000/60000 [==============================] - 9s 157us/step - loss: 0.1369 - acc: 0.9625 - val_loss: 0.0707 - val_acc: 0.9789\n",
      "Epoch 3/12\n",
      "60000/60000 [==============================] - 9s 156us/step - loss: 0.0867 - acc: 0.9769 - val_loss: 0.0702 - val_acc: 0.9792\n",
      "Epoch 4/12\n",
      "60000/60000 [==============================] - 9s 156us/step - loss: 0.0670 - acc: 0.9818 - val_loss: 0.0423 - val_acc: 0.9887\n",
      "Epoch 5/12\n",
      "60000/60000 [==============================] - 9s 156us/step - loss: 0.0537 - acc: 0.9858 - val_loss: 0.0383 - val_acc: 0.9895\n",
      "Epoch 6/12\n",
      "60000/60000 [==============================] - 9s 156us/step - loss: 0.0463 - acc: 0.9877 - val_loss: 0.0372 - val_acc: 0.9894\n",
      "Epoch 7/12\n",
      "60000/60000 [==============================] - 9s 156us/step - loss: 0.0418 - acc: 0.9887 - val_loss: 0.0328 - val_acc: 0.9911\n",
      "Epoch 8/12\n",
      "60000/60000 [==============================] - 9s 156us/step - loss: 0.0368 - acc: 0.9901 - val_loss: 0.0493 - val_acc: 0.9861\n",
      "Epoch 9/12\n",
      "60000/60000 [==============================] - 9s 156us/step - loss: 0.0323 - acc: 0.9917 - val_loss: 0.0294 - val_acc: 0.9927\n",
      "Epoch 10/12\n",
      "60000/60000 [==============================] - 9s 156us/step - loss: 0.0289 - acc: 0.9927 - val_loss: 0.0286 - val_acc: 0.9927\n",
      "Epoch 11/12\n",
      "60000/60000 [==============================] - 9s 156us/step - loss: 0.0268 - acc: 0.9932 - val_loss: 0.0301 - val_acc: 0.9922\n",
      "Epoch 12/12\n",
      "60000/60000 [==============================] - 9s 156us/step - loss: 0.0220 - acc: 0.9940 - val_loss: 0.0270 - val_acc: 0.9933\n",
      "Test loss: 0.027032574945610306\n",
      "Test accuracy: 0.9933\n"
     ]
    }
   ],
   "source": [
    "from __future__ import print_function\n",
    "import keras\n",
    "from keras.datasets import mnist\n",
    "from keras.models import Sequential\n",
    "from keras.layers import Dense, Dropout, Flatten\n",
    "from keras.layers import Conv2D, MaxPooling2D\n",
    "from keras import backend as K\n",
    "\n",
    "batch_size = 128\n",
    "num_classes = 10\n",
    "epochs = 12\n",
    "\n",
    "# input image dimensions\n",
    "img_rows, img_cols = 28, 28\n",
    "\n",
    "# the data, split between train and test sets\n",
    "(x_train, y_train), (x_test, y_test) = mnist.load_data()\n",
    "\n",
    "if K.image_data_format() == 'channels_first':\n",
    "    x_train = x_train.reshape(x_train.shape[0], 1, img_rows, img_cols)\n",
    "    x_test = x_test.reshape(x_test.shape[0], 1, img_rows, img_cols)\n",
    "    input_shape = (1, img_rows, img_cols)\n",
    "else:\n",
    "    x_train = x_train.reshape(x_train.shape[0], img_rows, img_cols, 1)\n",
    "    x_test = x_test.reshape(x_test.shape[0], img_rows, img_cols, 1)\n",
    "    input_shape = (img_rows, img_cols, 1)\n",
    "\n",
    "x_train = x_train.astype('float32')\n",
    "x_test = x_test.astype('float32')\n",
    "x_train /= 255\n",
    "x_test /= 255\n",
    "print('x_train shape:', x_train.shape)\n",
    "print(x_train.shape[0], 'train samples')\n",
    "print(x_test.shape[0], 'test samples')\n",
    "\n",
    "# convert class vectors to binary class matrices\n",
    "y_train = keras.utils.to_categorical(y_train, num_classes)\n",
    "y_test = keras.utils.to_categorical(y_test, num_classes)\n",
    "\n",
    "model = Sequential()\n",
    "\n",
    "# Layer 1\n",
    "model.add(Conv2D(32, (5, 5), input_shape=input_shape,activation='relu'))\n",
    "\n",
    "# Layer 2\n",
    "model.add(Conv2D(32, (5, 5),activation='relu'))\n",
    "model.add(MaxPooling2D(pool_size=(2, 2)))\n",
    "\n",
    "\n",
    "# Layer 3\n",
    "model.add(Conv2D(32, (3, 3),activation='relu'))\n",
    "\n",
    "\n",
    "# Layer 4\n",
    "model.add(Conv2D(32, (3, 3),activation='relu'))\n",
    "model.add(MaxPooling2D(pool_size=(3, 3)))\n",
    "\n",
    "\n",
    "\n",
    "# Layer 5\n",
    "model.add(Conv2D(64, (1, 1),activation='relu'))\n",
    "\n",
    "\n",
    "# Layer 6\n",
    "model.add(Conv2D(64, (1, 1),activation='relu'))\n",
    "model.add(MaxPooling2D(pool_size=(2, 2)))\n",
    "\n",
    "\n",
    "# Layer 7\n",
    "model.add(Conv2D(120, (1, 1),activation='relu'))\n",
    "model.add(MaxPooling2D(pool_size=(1, 1)))\n",
    "\n",
    "\n",
    "model.add(Dropout(0.25))\n",
    "model.add(Flatten())\n",
    "model.add(Dense(128, activation='relu'))\n",
    "model.add(Dropout(0.5))\n",
    "model.add(Dense(num_classes, activation='softmax'))\n",
    "\n",
    "model.compile(loss=keras.losses.categorical_crossentropy,\n",
    "              optimizer=keras.optimizers.Adadelta(),\n",
    "              metrics=['accuracy'])\n",
    "\n",
    "history = model.fit(x_train, y_train,\n",
    "          batch_size=batch_size,\n",
    "          epochs=epochs,\n",
    "          verbose=1,\n",
    "          validation_data=(x_test, y_test))\n",
    "score = model.evaluate(x_test, y_test, verbose=0)\n",
    "print('Test loss:', score[0])\n",
    "print('Test accuracy:', score[1])\n"
   ]
  },
  {
   "cell_type": "code",
   "execution_count": 17,
   "metadata": {
    "colab": {
     "base_uri": "https://localhost:8080/",
     "height": 279
    },
    "colab_type": "code",
    "id": "icnHC8adOzzu",
    "outputId": "313f8f4e-0827-4e65-90c3-ce145fdc0e2f"
   },
   "outputs": [
    {
     "data": {
      "image/png": "[encoded data removed]",
      "text/plain": [
       "<matplotlib.figure.Figure at 0x7f6426b79da0>"
      ]
     },
     "metadata": {
      "tags": []
     },
     "output_type": "display_data"
    }
   ],
   "source": [
    "import matplotlib.pyplot as plt\n",
    "%matplotlib notebook\n",
    "%matplotlib inline\n",
    "\n",
    "fig,ax = plt.subplots(1,1)\n",
    "ax.set_xlabel('epoch') ; ax.set_ylabel('Categorical Crossentropy Loss')\n",
    "x = list(range(1,epochs+1))\n",
    "vy = history.history['val_loss']\n",
    "ty = history.history['loss']\n",
    "plt_dynamic(x, vy, ty, ax)"
   ]
  },
  {
   "cell_type": "markdown",
   "metadata": {
    "colab_type": "text",
    "id": "SzmL69Ll-xxC"
   },
   "source": [
    "<h1>Conclusion</h1>"
   ]
  },
  {
   "cell_type": "code",
   "execution_count": 19,
   "metadata": {
    "colab": {
     "base_uri": "https://localhost:8080/",
     "height": 145
    },
    "colab_type": "code",
    "id": "xiewz0r2-9dy",
    "outputId": "fd5970ea-ebee-4096-f086-e81ccac0bd4e"
   },
   "outputs": [
    {
     "name": "stdout",
     "output_type": "stream",
     "text": [
      "+-------------------+---------------+\n",
      "|       Model       | Test_Accuracy |\n",
      "+-------------------+---------------+\n",
      "| CNN with 3 layers |     0.983     |\n",
      "| CNN with 5 layers |     0.991     |\n",
      "| CNN with 7 layers |     0.993     |\n",
      "+-------------------+---------------+\n"
     ]
    }
   ],
   "source": [
    "from prettytable import PrettyTable\n",
    "t = PrettyTable()\n",
    "t.field_names = ['Model', 'Test_Accuracy']\n",
    "t.add_row(['CNN with 3 layers','0.983'])\n",
    "t.add_row(['CNN with 5 layers','0.991'])\n",
    "t.add_row(['CNN with 7 layers','0.993'])\n",
    "\n",
    "print(t)\n"
   ]
  }
 ],
 "metadata": {
  "accelerator": "GPU",
  "colab": {
   "collapsed_sections": [],
   "name": "CNN_MNIST.ipynb",
   "provenance": [],
   "version": "0.3.2"
  },
  "kernelspec": {
   "display_name": "Python 3",
   "language": "python",
   "name": "python3"
  },
  "language_info": {
   "codemirror_mode": {
    "name": "ipython",
    "version": 3
   },
   "file_extension": ".py",
   "mimetype": "text/x-python",
   "name": "python",
   "nbconvert_exporter": "python",
   "pygments_lexer": "ipython3",
   "version": "3.6.4"
  }
 },
 "nbformat": 4,
 "nbformat_minor": 1
}
